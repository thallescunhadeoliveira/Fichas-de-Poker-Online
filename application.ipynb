{
 "cells": [
  {
   "cell_type": "code",
   "execution_count": 1,
   "id": "d7f57c86",
   "metadata": {},
   "outputs": [],
   "source": [
    "from flask import Flask, render_template, request, session, redirect\n",
    "from flask_session import Session\n",
    "import pyodbc\n",
    "import pandas as pd"
   ]
  },
  {
   "cell_type": "code",
   "execution_count": 2,
   "id": "6472e990",
   "metadata": {},
   "outputs": [],
   "source": [
    "dados_conexao = (\"Driver={SQL Server};\"\n",
    "                \"Server=COLOQUE_AQUI_O_SERVIDOR_DO_SEU_COMPUTADOR;\"\n",
    "                \"Database=poker;\")\n",
    "conexao = pyodbc.connect(dados_conexao)"
   ]
  },
  {
   "cell_type": "code",
   "execution_count": 3,
   "id": "66639707",
   "metadata": {},
   "outputs": [],
   "source": [
    "cursor = conexao.cursor()"
   ]
  },
  {
   "cell_type": "code",
   "execution_count": 4,
   "id": "f4d73a88",
   "metadata": {},
   "outputs": [
    {
     "data": {
      "text/html": [
       "<div>\n",
       "<style scoped>\n",
       "    .dataframe tbody tr th:only-of-type {\n",
       "        vertical-align: middle;\n",
       "    }\n",
       "\n",
       "    .dataframe tbody tr th {\n",
       "        vertical-align: top;\n",
       "    }\n",
       "\n",
       "    .dataframe thead th {\n",
       "        text-align: right;\n",
       "    }\n",
       "</style>\n",
       "<table border=\"1\" class=\"dataframe\">\n",
       "  <thead>\n",
       "    <tr style=\"text-align: right;\">\n",
       "      <th></th>\n",
       "      <th>id</th>\n",
       "    </tr>\n",
       "  </thead>\n",
       "  <tbody>\n",
       "  </tbody>\n",
       "</table>\n",
       "</div>"
      ],
      "text/plain": [
       "Empty DataFrame\n",
       "Columns: [id]\n",
       "Index: []"
      ]
     },
     "metadata": {},
     "output_type": "display_data"
    }
   ],
   "source": [
    "variavel = \"id\"\n",
    "participantes = pd.read_sql(\"SELECT {} FROM participants\".format(variavel), conexao)\n",
    "display(participantes)"
   ]
  },
  {
   "cell_type": "code",
   "execution_count": 5,
   "id": "ee9e7cf3",
   "metadata": {},
   "outputs": [
    {
     "data": {
      "text/plain": [
       "<flask_session.Session at 0x15ef7995370>"
      ]
     },
     "execution_count": 5,
     "metadata": {},
     "output_type": "execute_result"
    }
   ],
   "source": [
    "app = Flask(__name__)\n",
    "app.config[\"SESSION_PERMANENT\"] = False\n",
    "app.config[\"SESSION_TYPE\"] = \"filesystem\"\n",
    "Session(app)"
   ]
  },
  {
   "cell_type": "code",
   "execution_count": 6,
   "id": "7badeff5",
   "metadata": {},
   "outputs": [],
   "source": [
    "@app.route(\"/\")\n",
    "def index():\n",
    "    if not session.get(\"name\"):\n",
    "        return redirect(\"/login\")\n",
    "    return render_template(\"inicio.html\")"
   ]
  },
  {
   "cell_type": "code",
   "execution_count": 7,
   "id": "6b907c91",
   "metadata": {},
   "outputs": [],
   "source": [
    "@app.route(\"/login\", methods = [\"POST\", \"GET\"])\n",
    "def login():\n",
    "    if request.method == \"POST\":\n",
    "        session[\"name\"] = request.form.get(\"name\")\n",
    "        return redirect(\"/\")\n",
    "    return render_template(\"login.html\")"
   ]
  },
  {
   "cell_type": "code",
   "execution_count": 8,
   "id": "171cacd3",
   "metadata": {},
   "outputs": [],
   "source": [
    "@app.route(\"/logout\", methods = [\"POST\", \"GET\"])\n",
    "def logout():\n",
    "    session[\"name\"] = None\n",
    "    return redirect(\"/\")"
   ]
  },
  {
   "cell_type": "code",
   "execution_count": 9,
   "id": "4dba10ba",
   "metadata": {},
   "outputs": [],
   "source": [
    "@app.route(\"/participantes\", methods=[\"POST\", \"GET\"])\n",
    "def participantes():\n",
    "    nro_participantes = int(request.form.get(\"nro_participantes\"))\n",
    "    quantia_inicial = int(request.form.get(\"quantia_inicial\"))\n",
    "    return render_template(\"participantes.html\", nro_participantes=nro_participantes, quantia_inicial=quantia_inicial)"
   ]
  },
  {
   "cell_type": "code",
   "execution_count": 10,
   "id": "d4d5cb9a",
   "metadata": {},
   "outputs": [],
   "source": [
    "@app.route(\"/poker\", methods=[\"POST\",\"GET\"])\n",
    "def poker():\n",
    "    nro_participantes = int(request.form.get(\"nro_part\"))\n",
    "    quantia_inicial = request.form.get(\"qt_inicial\")\n",
    "    p1 = request.form.get(\"p1\")\n",
    "    p2 = request.form.get(\"p2\")\n",
    "    p3 = request.form.get(\"p3\")\n",
    "    p4 = request.form.get(\"p4\")\n",
    "    p5 = request.form.get(\"p5\")\n",
    "    p6 = request.form.get(\"p6\")\n",
    "    p7 = request.form.get(\"p7\")\n",
    "    p8 = request.form.get(\"p8\")\n",
    "    p9 = request.form.get(\"p9\")\n",
    "    p10 = request.form.get(\"p10\")\n",
    "    p11 = request.form.get(\"p11\")\n",
    "    p12 = request.form.get(\"p12\")\n",
    "    part = [p1,p2,p3,p4,p5,p6,p7,p8,p9,p10,p11,p12]\n",
    "    i = 0\n",
    "    pd.read_sql(\"DELETE FROM participants\", conexao)\n",
    "    pd.read_sql(\"DELETE FROM transactions\", conexao)\n",
    "    for participante in range(nro_participantes):\n",
    "        pd.read_sql(\"INSERT INTO participants(name_part, amount) VALUES({}, {})\".format(part[i], quantia_inicial), conexao)\n",
    "        i = i+1\n",
    "    pote = \"Pote\"\n",
    "    pd.read_sql(\"INSERT INTO participants(name_part, amount) VALUES(pote, 0)\", conexao)\n",
    "    participantes = pd.read_sql(\"SELECT * FROM participants\", conexao)\n",
    "    transacoes = pd.read_sql(\"SELECT * FROM transactions\", conexao)\n",
    "    return render_template(\"poker.html\", participantes=participantes, nro_participantes=nro_participantes, quantia_inicial=quantia_inicial, transacoes=transacoes)\n"
   ]
  },
  {
   "cell_type": "code",
   "execution_count": 11,
   "id": "3a82c108",
   "metadata": {},
   "outputs": [],
   "source": [
    "@app.route(\"/poker2\", methods=[\"POST\", \"GET\"])\n",
    "def poker2():\n",
    "    nro_participantes = int(request.form.get(\"nro_part\"))\n",
    "    quantia_inicial = int(request.form.get(\"qt_inicial\"))\n",
    "    debito = request.form.get(\"debito\")\n",
    "    credito = request.form.get(\"credito\")\n",
    "    valor_s = request.form.get(\"valor\")\n",
    "    valor = int(valor_s)\n",
    "    conta_cred = pd.read_sql(\"SELECT amount FROM participants WHERE id = {}\".format(credito), conexao)\n",
    "    conta_deb = pd.read_sql(\"SELECT amount FROM participants WHERE id = {}\".format(debito), conexao)\n",
    "    nome_cred = pd.read_sql(\"SELECT name_part FROM participants WHERE id = {}\".format(credito), conexao)\n",
    "    nome_deb = pd.read_sql(\"SELECT noname_part FROM participants WHERE id = {}\".format(debito), conexao)\n",
    "    saldo_cred = int(float(conta_cred[0]['amount'])) + valor\n",
    "    pd.read_sql(\"UPDATE participants SET amount = ? WHERE id = {}\".format(saldo_cred, credito), conexao)\n",
    "    saldo_deb = int(float(conta_deb[0]['amount'])) - valor\n",
    "    pd.read_sql(\"UPDATE participants SET amount = {} WHERE id = {}\".format(saldo_deb, debito), conexao)\n",
    "    pd.read_sql(\"INSERT INTO transactions(from_name, to_name, amount) VALUES({}, {}, {})\".format(nome_deb[0][\"nome\"], nome_cred[0][\"nome\"], valor), conexao)\n",
    "    participantes = pd.read_sql(\"SELECT * FROM participants\", conexao)\n",
    "    transacoes = pd.read_sql(\"SELECT * FROM transactions ORDER BY id DESC\", conexao)\n",
    "    return render_template(\"poker2.html\", participantes=participantes, debito=debito, credito=credito, valor=valor, conta_deb=conta_deb, conta_cred=conta_cred, nro_participantes=nro_participantes, quantia_inicial=quantia_inicial, transacoes=transacoes )\n"
   ]
  },
  {
   "cell_type": "markdown",
   "id": "53b538a6",
   "metadata": {},
   "source": [
    "## Código para SQL"
   ]
  },
  {
   "cell_type": "markdown",
   "id": "b3431d59",
   "metadata": {},
   "source": [
    "CREATE TABLE transactions (\n",
    "id INTEGER, \n",
    "from_name VARCHAR(45), \n",
    "to_name VARCHAR(45), \n",
    "amount INTEGER NOT NULL, \n",
    "PRIMARY KEY(id)\n",
    ");\n",
    "\n",
    "CREATE TABLE participants (\n",
    "id INTEGER, \n",
    "name_part VARCHAR(45), \n",
    "amount INTEGER NOT NULL,\n",
    "PRIMARY KEY(id));"
   ]
  }
 ],
 "metadata": {
  "kernelspec": {
   "display_name": "Python 3",
   "language": "python",
   "name": "python3"
  },
  "language_info": {
   "codemirror_mode": {
    "name": "ipython",
    "version": 3
   },
   "file_extension": ".py",
   "mimetype": "text/x-python",
   "name": "python",
   "nbconvert_exporter": "python",
   "pygments_lexer": "ipython3",
   "version": "3.8.8"
  }
 },
 "nbformat": 4,
 "nbformat_minor": 5
}
